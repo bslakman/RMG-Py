{
 "cells": [
  {
   "cell_type": "markdown",
   "metadata": {},
   "source": [
    "# A Cantera Simulation Using RMG-Py"
   ]
  },
  {
   "cell_type": "code",
   "execution_count": null,
   "metadata": {
    "collapsed": false
   },
   "outputs": [],
   "source": [
    "from rmgpy.chemkin import *\n",
    "from rmgpy.tools.canteraModel import *\n",
    "from IPython.display import display, Image"
   ]
  },
  {
   "cell_type": "markdown",
   "metadata": {},
   "source": [
    "Load the species and reaction from the RMG-generated chemkin file `chem_annotated.inp` and `species_dictionary.txt` file found in your `chemkin` folder after running a job."
   ]
  },
  {
   "cell_type": "code",
   "execution_count": null,
   "metadata": {
    "collapsed": false
   },
   "outputs": [],
   "source": [
    "speciesList, reactionList = loadChemkinFile('data/minimal_model/chem_annotated.inp',\n",
    "                                            'data/minimal_model/species_dictionary.txt',\n",
    "                                           'data/minimal_model/tran.dat')"
   ]
  },
  {
   "cell_type": "markdown",
   "metadata": {},
   "source": [
    "Set a few conditions for how to react the system"
   ]
  },
  {
   "cell_type": "code",
   "execution_count": null,
   "metadata": {
    "collapsed": false
   },
   "outputs": [],
   "source": [
    "# Find the species: ethane\n",
    "speciesDict = getRMGSpeciesFromSMILES(['CC'], speciesList)\n",
    "ethane = speciesDict['CC']\n",
    "\n",
    "reactorType = 'IdealGasReactor'\n",
    "molFracList=[{ethane: 1}]\n",
    "Tlist = ([1300,1500,2000],'K')\n",
    "Plist = ([1],'atm')\n",
    "reactionTime = (0.5, 'ms')"
   ]
  },
  {
   "cell_type": "code",
   "execution_count": null,
   "metadata": {
    "collapsed": false
   },
   "outputs": [],
   "source": [
    "# Create cantera object, loading in the species and reactions\n",
    "job = Cantera(speciesList=speciesList, reactionList=reactionList, outputDirectory='temp')\n",
    "# The cantera file must be created from an associated chemkin file\n",
    "job.loadChemkinModel('data/minimal_model/chem_annotated.inp',transportFile='data/minimal_model/tran.dat')\n",
    "# Generate the conditions based on the settings we declared earlier\n",
    "job.generateConditions('IdealGasReactor', reactionTime, molFracList, Tlist, Plist)\n",
    "# Simulate and plot\n",
    "alldata = job.simulate()\n",
    "job.plot(alldata)"
   ]
  },
  {
   "cell_type": "code",
   "execution_count": null,
   "metadata": {
    "collapsed": false
   },
   "outputs": [],
   "source": [
    "# Show the cantera species and reactions\n",
    "ctSpecies = job.model.species()\n",
    "ctReactions = job.model.reactions()\n",
    "\n",
    "# We can view a species or reaction\n",
    "ct_ethane = ctSpecies[4]\n",
    "ct_rxn = ctReactions[0]\n",
    "\n",
    "print ct_ethane\n",
    "print ct_rxn"
   ]
  },
  {
   "cell_type": "code",
   "execution_count": null,
   "metadata": {
    "collapsed": false
   },
   "outputs": [],
   "source": [
    "# Show the plots in the ipython notebook\n",
    "for i, condition in enumerate(job.conditions):\n",
    "    print 'Condition {0}'.format(i+1)\n",
    "    display(Image(filename=\"temp/{0}_mole_fractions.png\".format(i+1)))"
   ]
  }
 ],
 "metadata": {
  "kernelspec": {
   "display_name": "Python 2",
   "language": "python",
   "name": "python2"
  },
  "language_info": {
   "codemirror_mode": {
    "name": "ipython",
    "version": 2
   },
   "file_extension": ".py",
   "mimetype": "text/x-python",
   "name": "python",
   "nbconvert_exporter": "python",
   "pygments_lexer": "ipython2",
   "version": "2.7.11"
  }
 },
 "nbformat": 4,
 "nbformat_minor": 0
}
